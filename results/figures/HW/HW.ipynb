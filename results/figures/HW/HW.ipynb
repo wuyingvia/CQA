{
 "cells": [
  {
   "cell_type": "markdown",
   "metadata": {
    "collapsed": false,
    "pycharm": {
     "name": "#%% md\n"
    }
   },
   "source": [
    "# this version is to model historical - W\n",
    "# data: 20221102\n"
   ]
  },
  {
   "cell_type": "code",
   "execution_count": 46,
   "metadata": {
    "collapsed": false,
    "pycharm": {
     "name": "#%%\n"
    }
   },
   "outputs": [
    {
     "data": {
      "text/plain": [
       "['../configuration/PEMSD7M.conf']"
      ]
     },
     "execution_count": 46,
     "metadata": {},
     "output_type": "execute_result"
    }
   ],
   "source": [
    "import numpy as np\n",
    "import pandas as pd\n",
    "import configparser\n",
    "\n",
    "conf = '../configuration/PEMSD7M.conf'\n",
    "config = configparser.ConfigParser()\n",
    "config.read(conf)\n"
   ]
  },
  {
   "cell_type": "code",
   "execution_count": 47,
   "metadata": {
    "collapsed": false,
    "pycharm": {
     "name": "#%%\n"
    }
   },
   "outputs": [],
   "source": [
    "config_data = config['Data']\n",
    "FLOWPATH = config_data['FLOWPATH']\n",
    "DATANAME = config_data['DATANAME']\n",
    "N_NODE = int(config_data['N_NODE'])\n",
    "DATANAME = config_data['DATANAME']"
   ]
  },
  {
   "cell_type": "code",
   "execution_count": 48,
   "metadata": {
    "collapsed": false,
    "pycharm": {
     "name": "#%%\n"
    }
   },
   "outputs": [],
   "source": [
    "if DATANAME == 'PEMS04':\n",
    "    data = np.squeeze(np.load(FLOWPATH)['data'])[...,0]\n",
    "    index = pd.date_range(start = '2018-01-01',end='2018-03-01', freq='5min')[:-1]\n",
    "    data = pd.DataFrame(data)\n",
    "    data.index = index\n",
    "elif DATANAME == 'PEMS03':\n",
    "    data = np.squeeze(np.load(FLOWPATH)['data'])\n",
    "    index = pd.date_range(start = '2018-09-01',end='2018-12-01', freq='5min')[:-1]\n",
    "    data = pd.DataFrame(data)\n",
    "    data.index = index\n",
    "elif DATANAME == 'PEMS07':\n",
    "    data = np.squeeze(np.load(FLOWPATH)['data'])\n",
    "    index = pd.date_range(start = '2017-05-01',end='2017-08-07', freq='5min')[:-1]\n",
    "    data = pd.DataFrame(data)\n",
    "    data.index = index\n",
    "elif DATANAME == 'PEMS08':\n",
    "    data = np.squeeze(np.load(FLOWPATH)['data'])[...,0]\n",
    "    index = pd.date_range(start = '2016-07-01',end='2016-09-01', freq='5min')[:-1]\n",
    "    data = pd.DataFrame(data)\n",
    "    data.index = index\n",
    "elif DATANAME == 'METR-LA':\n",
    "    data = pd.read_hdf(FLOWPATH)\n",
    "    data = pd.DataFrame(data)\n",
    "elif DATANAME == 'PEMS-BAY':\n",
    "    data = pd.read_hdf(FLOWPATH)\n",
    "    data = pd.DataFrame(data)\n",
    "elif DATANAME == 'PEMSD7M':\n",
    "    data = pd.read_csv(FLOWPATH,index_col=[0])\n",
    "    data = pd.DataFrame(data)"
   ]
  },
  {
   "cell_type": "code",
   "execution_count": 49,
   "metadata": {
    "collapsed": false,
    "pycharm": {
     "name": "#%%\n"
    }
   },
   "outputs": [],
   "source": [
    "# train data最好取整数周\n",
    "sum_week = int(len(data)/288/7)"
   ]
  },
  {
   "cell_type": "code",
   "execution_count": 50,
   "metadata": {
    "collapsed": false,
    "pycharm": {
     "name": "#%%\n"
    }
   },
   "outputs": [],
   "source": [
    "# split data\n",
    "len_sample = 288* int(sum_week*0.7)*7\n",
    "# in case there is less than 288\n",
    "len_sample_v = 288* int(sum_week*0.3)*7\n",
    "train_data = data[:len_sample]\n",
    "test_data = data[-len_sample_v:]\n",
    "# index time\n",
    "time = pd.DatetimeIndex(train_data.index).weekday"
   ]
  },
  {
   "cell_type": "code",
   "execution_count": 51,
   "metadata": {
    "collapsed": false,
    "pycharm": {
     "name": "#%%\n"
    }
   },
   "outputs": [],
   "source": [
    "i_week = time.unique()\n",
    "sort_data = []\n",
    "mean = []\n",
    "std = []\n",
    "for i in i_week:\n",
    "    temp_data_ = np.array(train_data.iloc[time.isin([i]),:]).reshape(-1,288, N_NODE)\n",
    "    temp_data_mean = np.mean(temp_data_,axis=0)\n",
    "    temp_data_std = np.std(temp_data_,axis=0)\n",
    "    mean.append(temp_data_mean)\n",
    "    std.append(temp_data_std)\n",
    "train_mean = np.stack(mean)\n",
    "train_std = np.stack(std)\n",
    "# sort_data = np.squeeze(np.stack(sort_data))"
   ]
  },
  {
   "cell_type": "code",
   "execution_count": 52,
   "metadata": {
    "collapsed": false,
    "pycharm": {
     "name": "#%%\n"
    }
   },
   "outputs": [],
   "source": [
    "# 求得train data的上下边界\n",
    "upper = train_mean + train_std\n",
    "lower = train_mean - train_std\n",
    "# 构造predict train的上下边界\n",
    "test_time = pd.DatetimeIndex(test_data.index).weekday\n",
    "test_week_index = np.array(test_time).reshape(-1,288)[:,0]\n",
    "y_upper = np.stack([upper[test_week_index[i]] for i in test_week_index])\n",
    "y_lower = np.stack([lower[test_week_index[i]] for i in test_week_index])"
   ]
  },
  {
   "cell_type": "code",
   "execution_count": 53,
   "metadata": {
    "collapsed": false,
    "pycharm": {
     "name": "#%%\n"
    }
   },
   "outputs": [],
   "source": [
    "test_data = np.array(test_data).reshape(-1,288,N_NODE)"
   ]
  },
  {
   "cell_type": "code",
   "execution_count": 54,
   "metadata": {
    "collapsed": false,
    "pycharm": {
     "name": "#%%\n"
    }
   },
   "outputs": [],
   "source": [
    "# 计算coverage和interval；\n",
    "def coverage(y_lower, y_upper, test_data):\n",
    "    y_lower = y_lower * (y_lower >0)\n",
    "    mask = test_data > 0\n",
    "    independent_coverage = np.logical_and(np.logical_and(y_upper >= test_data, y_lower <= test_data), mask)\n",
    "    width = np.sum(np.abs(y_upper-y_lower)*mask)/np.sum(mask)\n",
    "    m_cov = np.sum(independent_coverage)/np.sum(mask)\n",
    "    return  m_cov, width"
   ]
  },
  {
   "cell_type": "code",
   "execution_count": 55,
   "metadata": {
    "collapsed": false,
    "pycharm": {
     "name": "#%%\n"
    }
   },
   "outputs": [],
   "source": [
    "# historical - W\n",
    "m_cov_W, width_W = coverage(y_lower, y_upper, test_data)"
   ]
  },
  {
   "cell_type": "code",
   "execution_count": 56,
   "metadata": {
    "collapsed": false,
    "pycharm": {
     "name": "#%%\n"
    }
   },
   "outputs": [],
   "source": [
    "# for historical-D\n",
    "D_train = np.array(train_data).reshape(-1,288, N_NODE)\n",
    "mean_D = np.mean(D_train,axis=0)\n",
    "std_D = np.std(D_train, axis=0)\n",
    "# 求得train data的上下边界\n",
    "upper_D = mean_D + std_D\n",
    "lower_D = mean_D - std_D\n",
    "# 构造predict train的上下边界\n",
    "y_upper_D = np.tile(upper_D, reps = (test_data.shape[0],1,1))\n",
    "y_lower_D = np.tile(lower_D, reps = (test_data.shape[0],1,1))"
   ]
  },
  {
   "cell_type": "code",
   "execution_count": 57,
   "metadata": {
    "collapsed": false,
    "pycharm": {
     "name": "#%%\n"
    }
   },
   "outputs": [],
   "source": [
    "m_cov_D, width_D = coverage(y_lower_D, y_upper_D, test_data)"
   ]
  },
  {
   "cell_type": "code",
   "execution_count": 58,
   "metadata": {
    "collapsed": false,
    "pycharm": {
     "name": "#%%\n"
    }
   },
   "outputs": [
    {
     "data": {
      "text/plain": [
       "(0.747145641882484, 10.718489497181954)"
      ]
     },
     "execution_count": 58,
     "metadata": {},
     "output_type": "execute_result"
    }
   ],
   "source": [
    "m_cov_D, width_D"
   ]
  },
  {
   "cell_type": "code",
   "execution_count": 59,
   "metadata": {
    "collapsed": false,
    "pycharm": {
     "name": "#%%\n"
    }
   },
   "outputs": [
    {
     "data": {
      "text/plain": [
       "(0.5497445871623503, 7.859360701284957)"
      ]
     },
     "execution_count": 59,
     "metadata": {},
     "output_type": "execute_result"
    }
   ],
   "source": [
    "m_cov_W, width_W"
   ]
  },
  {
   "cell_type": "code",
   "execution_count": null,
   "metadata": {},
   "outputs": [],
   "source": []
  }
 ],
 "metadata": {
  "kernelspec": {
   "display_name": "Python 3.7.4 ('base')",
   "language": "python",
   "name": "python3"
  },
  "language_info": {
   "codemirror_mode": {
    "name": "ipython",
    "version": 3
   },
   "file_extension": ".py",
   "mimetype": "text/x-python",
   "name": "python",
   "nbconvert_exporter": "python",
   "pygments_lexer": "ipython3",
   "version": "3.7.4"
  },
  "vscode": {
   "interpreter": {
    "hash": "ba1797e67f30ddefe889e33774d5846a4f7ce3968ba96219de6118bfd9b6b39a"
   }
  }
 },
 "nbformat": 4,
 "nbformat_minor": 0
}
