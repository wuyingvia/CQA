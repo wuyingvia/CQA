{
 "cells": [
  {
   "cell_type": "code",
   "execution_count": 5,
   "metadata": {
    "pycharm": {
     "name": "#%%\n"
    }
   },
   "outputs": [],
   "source": [
    "import numpy as np \n",
    "import matplotlib.pyplot as plt "
   ]
  },
  {
   "cell_type": "code",
   "execution_count": 6,
   "metadata": {
    "pycharm": {
     "name": "#%%\n"
    }
   },
   "outputs": [
    {
     "data": {
      "text/plain": [
       "['coverage_list', 'interval_list']"
      ]
     },
     "execution_count": 6,
     "metadata": {},
     "output_type": "execute_result"
    }
   ],
   "source": [
    "data = np.load('coverage_interval_96.npz')\n",
    "data.files"
   ]
  },
  {
   "cell_type": "code",
   "execution_count": 7,
   "metadata": {
    "pycharm": {
     "name": "#%%\n"
    }
   },
   "outputs": [],
   "source": [
    "coverage_list = data['coverage_list']\n",
    "interval_list = data['interval_list']"
   ]
  },
  {
   "cell_type": "code",
   "execution_count": 8,
   "metadata": {
    "pycharm": {
     "name": "#%%\n"
    }
   },
   "outputs": [],
   "source": [
    "node = coverage_list.shape[1]"
   ]
  },
  {
   "cell_type": "code",
   "execution_count": 9,
   "metadata": {
    "pycharm": {
     "name": "#%%\n"
    }
   },
   "outputs": [],
   "source": [
    "node_idx = 0\n",
    "\n",
    "node_coverage = coverage_list[:,node_idx]\n",
    "node_coverage = np.reshape(node_coverage, (96,96))\n",
    "\n",
    "node_interval = interval_list[:, node_idx]\n",
    "node_interval = np.reshape(node_interval, (96,96))"
   ]
  },
  {
   "cell_type": "code",
   "execution_count": 10,
   "metadata": {
    "pycharm": {
     "name": "#%%\n"
    }
   },
   "outputs": [],
   "source": [
    "# plt.imshow(node_coverage)\n",
    "# plt.colorbar()"
   ]
  },
  {
   "cell_type": "code",
   "execution_count": 11,
   "metadata": {
    "pycharm": {
     "name": "#%%\n"
    }
   },
   "outputs": [],
   "source": [
    "# plt.imshow(node_interval)\n",
    "# plt.colorbar()"
   ]
  },
  {
   "cell_type": "code",
   "execution_count": 12,
   "metadata": {
    "pycharm": {
     "name": "#%%\n"
    }
   },
   "outputs": [
    {
     "name": "stdout",
     "output_type": "stream",
     "text": [
      "31.516342\n",
      "0.8818705\n"
     ]
    }
   ],
   "source": [
    "interval_t = []\n",
    "coverage_t = []\n",
    "for t in range(node):\n",
    "    idx_t = np.where(coverage_list[:,t] >= 0.88)[0]\n",
    "    if len(idx_t):\n",
    "        idx_t = idx_t[0]\n",
    "        # idx_t = min(idx_t[0], 70*70)\n",
    "        interval_t.append(interval_list[idx_t, t])\n",
    "        coverage_t.append(coverage_list[idx_t, t])\n",
    "    else:\n",
    "        interval_t.append(interval_list[0, t])\n",
    "        coverage_t.append(coverage_list[0, t])\n",
    "\n",
    "\n",
    "\n",
    "print(np.mean(interval_t))\n",
    "print(np.mean(coverage_t))\n"
   ]
  },
  {
   "cell_type": "code",
   "execution_count": 23,
   "metadata": {
    "pycharm": {
     "name": "#%%\n"
    }
   },
   "outputs": [
    {
     "name": "stdout",
     "output_type": "stream",
     "text": [
      "0.9539732\n",
      "24.722822\n"
     ]
    }
   ],
   "source": [
    "weight = 0.4\n",
    "# node_idx = 0\n",
    "\n",
    "coverage_rec = []\n",
    "interval_rec = []\n",
    "\n",
    "for node_idx in range(node):\n",
    "\n",
    "    interval_nor = interval_list[:, node_idx]\n",
    "    interval_nor = (interval_nor - min(interval_nor)) / (max(interval_nor) - min(interval_nor))\n",
    "\n",
    "\n",
    "    coverage_nor = coverage_list[:, node_idx]\n",
    "    coverage_nor = (coverage_nor - min(coverage_nor)) / (max(coverage_nor) - min(coverage_nor))\n",
    "\n",
    "    # obj = weight * interval_nor + (1-weight)* coverage_nor\n",
    "\n",
    "    obj =  weight * interval_nor - (1-weight) * coverage_nor\n",
    "\n",
    "    obj_min_idx = np.argmin(obj)\n",
    "\n",
    "    coverage_rec.append(coverage_list[obj_min_idx, node_idx])\n",
    "    interval_rec.append(interval_list[obj_min_idx, node_idx])\n",
    "\n",
    "\n",
    "print(np.mean(coverage_rec))\n",
    "print(np.mean(interval_rec))\n"
   ]
  },
  {
   "cell_type": "code",
   "execution_count": 166,
   "metadata": {
    "pycharm": {
     "name": "#%%\n"
    }
   },
   "outputs": [
    {
     "data": {
      "text/plain": [
       "[0.2962879,\n",
       " 0.8882682,\n",
       " 0.5792099,\n",
       " 0.97852147,\n",
       " 0.8606656,\n",
       " 0.94760525,\n",
       " 0.8416059,\n",
       " 0.9184243,\n",
       " 0.4447054,\n",
       " 0.45725426,\n",
       " 0.6971902,\n",
       " 0.84553015,\n",
       " 0.39383012,\n",
       " 0.28723732,\n",
       " 0.8539068,\n",
       " 0.87553865,\n",
       " 0.98681974,\n",
       " 0.9439616,\n",
       " 0.98573565,\n",
       " 0.9409397,\n",
       " 0.28981856,\n",
       " 0.9185954,\n",
       " 0.92867607,\n",
       " 0.87356436,\n",
       " 0.7834414,\n",
       " 0.7905723,\n",
       " 0.87411046,\n",
       " 0.94327456,\n",
       " 0.45671672,\n",
       " 0.99350387,\n",
       " 0.96049684,\n",
       " 0.2319443,\n",
       " 0.73367155,\n",
       " 0.8815565,\n",
       " 0.5438632,\n",
       " 0.9179052,\n",
       " 0.3614168,\n",
       " 0.6949495,\n",
       " 0.8705623,\n",
       " 0.98359215,\n",
       " 0.7674536,\n",
       " 0.932055,\n",
       " 0.50076836,\n",
       " 0.9179886,\n",
       " 0.41366583,\n",
       " 0.3198005,\n",
       " 0.950959,\n",
       " 0.9088724,\n",
       " 0.9565501,\n",
       " 0.77967626,\n",
       " 0.94393456,\n",
       " 0.9698272,\n",
       " 0.68652004,\n",
       " 0.9788464,\n",
       " 0.8967581,\n",
       " 0.9599171,\n",
       " 0.9890026,\n",
       " 0.9908211,\n",
       " 0.65511733,\n",
       " 0.7280305,\n",
       " 0.9426764,\n",
       " 0.19146597,\n",
       " 0.6360024,\n",
       " 0.74560785,\n",
       " 0.51865524,\n",
       " 0.85155624,\n",
       " 0.27104852,\n",
       " 0.2452622,\n",
       " 0.19241516,\n",
       " 0.733739,\n",
       " 0.8824705,\n",
       " 0.95431423,\n",
       " 0.83378285,\n",
       " 0.9157498,\n",
       " 0.76660645,\n",
       " 0.96992403,\n",
       " 0.9688747,\n",
       " 0.7464505,\n",
       " 0.6340587,\n",
       " 0.6132894,\n",
       " 0.6164452,\n",
       " 0.9261974,\n",
       " 0.8045377,\n",
       " 0.73783785,\n",
       " 0.98832804,\n",
       " 0.4841746,\n",
       " 0.8940543,\n",
       " 0.7194453,\n",
       " 0.7919952,\n",
       " 0.7653865,\n",
       " 0.19010521,\n",
       " 0.9875187,\n",
       " 0.19927348,\n",
       " 0.83171874,\n",
       " 0.92098963,\n",
       " 0.74288565,\n",
       " 0.5968884,\n",
       " 0.63249826,\n",
       " 0.9133081,\n",
       " 0.16994312,\n",
       " 0.8766713,\n",
       " 0.8411383,\n",
       " 0.8754864,\n",
       " 0.35053828,\n",
       " 0.7234637,\n",
       " 0.20723094,\n",
       " 0.18388122,\n",
       " 0.0,\n",
       " 0.2688445,\n",
       " 0.9237314,\n",
       " 0.74446744,\n",
       " 0.6106956,\n",
       " 0.9035879,\n",
       " 0.85687196,\n",
       " 0.5864281,\n",
       " 0.5316197,\n",
       " 0.71993214,\n",
       " 0.71876246,\n",
       " 0.33633995,\n",
       " 0.7142144,\n",
       " 0.74458313,\n",
       " 0.9363109,\n",
       " 0.6143641,\n",
       " 0.2490773,\n",
       " 0.8325335,\n",
       " 0.95474076,\n",
       " 0.95182043,\n",
       " 0.6083351,\n",
       " 0.599501,\n",
       " 0.76505244,\n",
       " 0.93306065,\n",
       " 0.9279657,\n",
       " 0.2684503,\n",
       " 0.8728223,\n",
       " 0.5413879,\n",
       " 0.86706704,\n",
       " 0.6436655,\n",
       " 0.9290006,\n",
       " 0.8180092,\n",
       " 0.74165833,\n",
       " 0.90050894,\n",
       " 0.7484976,\n",
       " 0.85256475,\n",
       " 0.97432786,\n",
       " 0.98050976,\n",
       " 0.2725187,\n",
       " 0.8150271,\n",
       " 0.8473763,\n",
       " 0.75774324,\n",
       " 0.31603205,\n",
       " 0.8475694,\n",
       " 0.93433136,\n",
       " 0.9345636,\n",
       " 0.81216955,\n",
       " 0.9055982,\n",
       " 0.5979052,\n",
       " 0.9706733,\n",
       " 0.5324416,\n",
       " 0.79748476,\n",
       " 0.5877657,\n",
       " 0.2155336,\n",
       " 0.6285429,\n",
       " 0.32129315,\n",
       " 0.2335431,\n",
       " 0.8882766,\n",
       " 0.934787,\n",
       " 0.62682307,\n",
       " 0.5618079,\n",
       " 0.5306434,\n",
       " 0.5364737,\n",
       " 0.93749374,\n",
       " 0.22617997,\n",
       " 0.92819333,\n",
       " 0.5893747,\n",
       " 0.7181267,\n",
       " 0.64881194,\n",
       " 0.68418396,\n",
       " 0.93984884,\n",
       " 0.71632695,\n",
       " 0.94744205,\n",
       " 0.7683068,\n",
       " 0.7963305,\n",
       " 0.6371346,\n",
       " 0.10193267,\n",
       " 0.8560856,\n",
       " 0.6659978,\n",
       " 0.8268463,\n",
       " 0.5403057,\n",
       " 0.71176296,\n",
       " 0.8333503,\n",
       " 0.6988228,\n",
       " 0.847478,\n",
       " 0.9254745,\n",
       " 0.8201381,\n",
       " 0.9424121,\n",
       " 0.5520823,\n",
       " 0.990012,\n",
       " 0.9928957,\n",
       " 0.33246806,\n",
       " 0.9172572,\n",
       " 0.752095,\n",
       " 0.5011449,\n",
       " 0.82350373,\n",
       " 0.26044792,\n",
       " 0.9326616,\n",
       " 0.50703657,\n",
       " 0.770014]"
      ]
     },
     "execution_count": 166,
     "metadata": {},
     "output_type": "execute_result"
    }
   ],
   "source": [
    "coverage_rec"
   ]
  },
  {
   "cell_type": "code",
   "execution_count": 118,
   "metadata": {
    "pycharm": {
     "name": "#%%\n"
    }
   },
   "outputs": [
    {
     "name": "stdout",
     "output_type": "stream",
     "text": [
      "[14]\n",
      "[0.7941176  0.8143319  0.81978977 0.81978977 0.81978977 0.81978977\n",
      " 0.82656157 0.83222157 0.83616334 0.8383869  0.8394987  0.8402062\n",
      " 0.8412169  0.84172225 0.84202546 0.84242976 0.84283406 0.8430362\n",
      " 0.84354156 0.84354156 0.84354156 0.8436426  0.8439458  0.8439458\n",
      " 0.844148   0.8443501  0.8444512  0.8444512  0.8445523  0.8445523\n",
      " 0.8445523  0.8445523  0.8447544  0.8447544  0.8447544  0.8447544\n",
      " 0.8447544  0.8447544  0.8448555  0.8448555  0.8448555  0.8448555\n",
      " 0.8448555  0.8449565  0.8450576  0.8450576  0.8450576  0.8450576\n",
      " 0.8450576  0.8450576  0.8450576  0.8450576  0.8450576  0.8450576\n",
      " 0.8450576  0.8450576  0.8450576  0.8450576  0.8450576  0.8450576\n",
      " 0.8450576  0.8450576  0.8450576  0.8450576  0.8450576  0.8450576\n",
      " 0.8450576  0.8450576  0.8450576  0.8450576  0.8450576  0.8450576\n",
      " 0.8450576  0.8450576  0.8450576  0.8450576  0.8450576  0.8450576\n",
      " 0.8450576  0.8450576  0.8450576  0.8450576  0.8450576  0.8450576\n",
      " 0.8450576  0.8450576  0.8450576  0.8450576  0.8450576  0.8450576\n",
      " 0.8450576  0.8450576  0.8450576  0.8450576  0.8450576  0.8450576 ]\n",
      "[13.308337 14.399355 14.860957 14.860957 14.860957 14.860957 15.600833\n",
      " 16.196827 16.581804 16.892511 17.091877 17.291582 17.46629  17.608728\n",
      " 17.75409  17.871225 18.015003 18.124254 18.241474 18.360964 18.468424\n",
      " 18.56753  18.654276 18.74824  18.825954 18.923761 19.028818 19.1365\n",
      " 19.237736 19.315187 19.42322  19.511324 19.5841   19.66601  19.760185\n",
      " 19.8491   19.925188 20.016314 20.113682 20.210428 20.317425 20.409693\n",
      " 20.522104 20.628954 20.738543 20.844034 20.962633 21.080048 21.185083\n",
      " 21.313684 21.45502  21.579996 21.715883 21.86394  21.995218 22.14207\n",
      " 22.302767 22.442339 22.610209 22.81666  23.04091  23.232864 23.430155\n",
      " 23.621248 23.865358 24.09992  24.33655  24.57594  24.93255  25.19328\n",
      " 25.422266 25.688782 25.944033 26.201395 26.462437 26.74904  27.031292\n",
      " 27.271946 27.52421  27.744305 28.023989 28.284487 28.547724 28.810839\n",
      " 29.092836 29.340433 29.642536 29.905293 30.261263 30.6612   31.061531\n",
      " 31.569582 32.07296  32.588005 33.293133 34.096737]\n"
     ]
    }
   ],
   "source": [
    "node_idx = 10\n",
    "\n",
    "coverage_rec = []\n",
    "\n",
    "# for node_idx in range(node):\n",
    "\n",
    "node_coverage = coverage_list[:, node_idx]\n",
    "node_coverage = np.reshape(node_coverage, (96,96))\n",
    "\n",
    "node_interval = interval_list[:, node_idx]\n",
    "node_interval = np.reshape(node_interval, (96,96))\n",
    "\n",
    "u_idx_rec = []\n",
    "l_idx_rec = []\n",
    "\n",
    "for u_idx in range(96):\n",
    "    diff_t = np.diff(node_coverage[u_idx, :])\n",
    "    l_idx = np.where(diff_t == 0)[0]\n",
    "    if len(l_idx):\n",
    "        l_idx = l_idx[0]\n",
    "    else:\n",
    "        # print('!!')\n",
    "        l_idx = 0\n",
    "    \n",
    "    u_idx_rec.append(u_idx)\n",
    "    l_idx_rec.append(l_idx)\n",
    "    \n",
    "print(np.unique(l_idx_rec))\n",
    "print(node_coverage[u_idx_rec, l_idx_rec])\n",
    "print(node_interval[u_idx_rec, l_idx_rec])\n",
    "\n",
    "# obj_min_idx = np.argmin(obj)\n",
    "\n",
    "# coverage_rec.append(coverage_list[obj_min_idx, node_idx])\n"
   ]
  },
  {
   "cell_type": "code",
   "execution_count": 115,
   "metadata": {
    "pycharm": {
     "name": "#%%\n"
    }
   },
   "outputs": [
    {
     "data": {
      "text/plain": [
       "[<matplotlib.lines.Line2D at 0x7fb28d4ba1c0>]"
      ]
     },
     "execution_count": 115,
     "metadata": {},
     "output_type": "execute_result"
    },
    {
     "data": {
      "image/png": "[encoded data removed]",
      "text/plain": [
       "<Figure size 432x288 with 1 Axes>"
      ]
     },
     "metadata": {
      "needs_background": "light"
     },
     "output_type": "display_data"
    }
   ],
   "source": [
    "# plt.plot(node_coverage[u_idx_rec, l_idx_rec])\n",
    "plt.plot(node_interval[u_idx_rec, l_idx_rec])"
   ]
  },
  {
   "cell_type": "code",
   "execution_count": 106,
   "metadata": {
    "pycharm": {
     "name": "#%%\n"
    }
   },
   "outputs": [
    {
     "data": {
      "text/plain": [
       "array([[0.00828698, 0.0857078 , 0.14178681, ..., 0.24338745, 0.24565785,\n",
       "        0.2481553 ],\n",
       "       [0.00874106, 0.10784425, 0.19082756, ..., 0.3116131 , 0.31388354,\n",
       "        0.31638098],\n",
       "       [0.00976274, 0.1462141 , 0.26359406, ..., 0.40572143, 0.40799183,\n",
       "        0.41048926],\n",
       "       ...,\n",
       "       [0.1193098 , 0.5115223 , 0.81439435, ..., 0.99296176, 0.99523216,\n",
       "        0.9977296 ],\n",
       "       [0.1193098 , 0.5115223 , 0.81439435, ..., 0.99296176, 0.99523216,\n",
       "        0.9977296 ],\n",
       "       [0.1193098 , 0.5115223 , 0.81439435, ..., 0.99296176, 0.99523216,\n",
       "        0.9977296 ]], dtype=float32)"
      ]
     },
     "execution_count": 106,
     "metadata": {},
     "output_type": "execute_result"
    }
   ],
   "source": [
    "node_coverage"
   ]
  },
  {
   "cell_type": "code",
   "execution_count": 103,
   "metadata": {
    "pycharm": {
     "name": "#%%\n"
    }
   },
   "outputs": [
    {
     "data": {
      "text/plain": [
       "array([0.1069335 , 0.10764098, 0.09440064, 0.07165962, 0.06256312,\n",
       "       0.0402264 , 0.03466749, 0.03042251, 0.02354962, 0.0161714 ,\n",
       "       0.01627249, 0.01607037, 0.01445317, 0.01041037, 0.        ,\n",
       "       0.        , 0.        , 0.        , 0.00101072, 0.01010716,\n",
       "       0.00778246, 0.0071761 , 0.00596321, 0.00616533, 0.00768143,\n",
       "       0.00616533, 0.00454825, 0.0044471 , 0.00262791, 0.00414389,\n",
       "       0.00384074, 0.00313318, 0.00252676, 0.00293112, 0.00293106,\n",
       "       0.00282997, 0.00333536, 0.00252682, 0.00282997, 0.00121289,\n",
       "       0.00303209, 0.00121289, 0.00171822, 0.00101072, 0.00080854,\n",
       "       0.0015161 , 0.00181925, 0.00101072, 0.00192034, 0.00181931,\n",
       "       0.00121284, 0.00202143, 0.00111181, 0.00101072, 0.00101072,\n",
       "       0.00111175, 0.00121289, 0.00090963, 0.00101072, 0.00090963,\n",
       "       0.00121289, 0.00101066, 0.0015161 , 0.00141501, 0.00141495,\n",
       "       0.00060648, 0.00090963, 0.00070751, 0.00060642, 0.00090963,\n",
       "       0.00060642, 0.00060648, 0.00111175, 0.00101072, 0.00111181,\n",
       "       0.00101072, 0.00090963, 0.00101072, 0.0008086 , 0.00161713,\n",
       "       0.00111175, 0.00131392, 0.00050539, 0.00080854, 0.00101072,\n",
       "       0.00050539, 0.00080854, 0.00060648, 0.00080854, 0.00101072,\n",
       "       0.00050539, 0.00040424, 0.00050539, 0.0004043 , 0.00020212],\n",
       "      dtype=float32)"
      ]
     },
     "execution_count": 103,
     "metadata": {},
     "output_type": "execute_result"
    }
   ],
   "source": [
    "diff_t"
   ]
  },
  {
   "cell_type": "code",
   "execution_count": null,
   "metadata": {
    "pycharm": {
     "name": "#%%\n"
    }
   },
   "outputs": [],
   "source": []
  },
  {
   "cell_type": "code",
   "execution_count": 68,
   "metadata": {
    "pycharm": {
     "name": "#%%\n"
    }
   },
   "outputs": [
    {
     "data": {
      "text/plain": [
       "0.9673272"
      ]
     },
     "execution_count": 68,
     "metadata": {},
     "output_type": "execute_result"
    }
   ],
   "source": [
    "np.mean(coverage_rec)"
   ]
  },
  {
   "cell_type": "code",
   "execution_count": 66,
   "metadata": {
    "pycharm": {
     "name": "#%%\n"
    }
   },
   "outputs": [
    {
     "data": {
      "text/plain": [
       "array([0.08933919, 0.27829906, 0.49171492, ..., 1.        , 1.        ,\n",
       "       1.        ], dtype=float32)"
      ]
     },
     "execution_count": 66,
     "metadata": {},
     "output_type": "execute_result"
    }
   ],
   "source": [
    "coverage_list[:, node_idx]"
   ]
  },
  {
   "cell_type": "code",
   "execution_count": 61,
   "metadata": {
    "pycharm": {
     "name": "#%%\n"
    }
   },
   "outputs": [
    {
     "data": {
      "text/plain": [
       "array([11.193296 ,  3.5932567,  2.0336988, ...,  1.       ,  1.       ,\n",
       "        1.       ], dtype=float32)"
      ]
     },
     "execution_count": 61,
     "metadata": {},
     "output_type": "execute_result"
    }
   ],
   "source": [
    "1/coverage_list[:, node_idx]"
   ]
  },
  {
   "cell_type": "code",
   "execution_count": 62,
   "metadata": {
    "pycharm": {
     "name": "#%%\n"
    }
   },
   "outputs": [
    {
     "data": {
      "text/plain": [
       "array([1.        , 0.25440806, 0.10140967, ..., 0.        , 0.        ,\n",
       "       0.        ], dtype=float32)"
      ]
     },
     "execution_count": 62,
     "metadata": {},
     "output_type": "execute_result"
    }
   ],
   "source": [
    "coverage_nor"
   ]
  },
  {
   "cell_type": "code",
   "execution_count": 63,
   "metadata": {
    "pycharm": {
     "name": "#%%\n"
    }
   },
   "outputs": [
    {
     "data": {
      "text/plain": [
       "array([0.00387791, 0.01596006, 0.04305379, ..., 0.99542224, 0.9977629 ,\n",
       "       1.        ], dtype=float32)"
      ]
     },
     "execution_count": 63,
     "metadata": {},
     "output_type": "execute_result"
    }
   ],
   "source": [
    "interval_nor"
   ]
  },
  {
   "cell_type": "code",
   "execution_count": 39,
   "metadata": {
    "pycharm": {
     "name": "#%%\n"
    }
   },
   "outputs": [
    {
     "data": {
      "text/plain": [
       "7513"
      ]
     },
     "execution_count": 39,
     "metadata": {},
     "output_type": "execute_result"
    }
   ],
   "source": [
    "obj_min_idx"
   ]
  },
  {
   "cell_type": "code",
   "execution_count": 40,
   "metadata": {
    "pycharm": {
     "name": "#%%\n"
    }
   },
   "outputs": [
    {
     "data": {
      "text/plain": [
       "0.9485753"
      ]
     },
     "execution_count": 40,
     "metadata": {},
     "output_type": "execute_result"
    }
   ],
   "source": [
    "coverage_list[obj_min_idx, node_idx]"
   ]
  },
  {
   "cell_type": "code",
   "execution_count": 41,
   "metadata": {
    "pycharm": {
     "name": "#%%\n"
    }
   },
   "outputs": [
    {
     "data": {
      "text/plain": [
       "21.715014"
      ]
     },
     "execution_count": 41,
     "metadata": {},
     "output_type": "execute_result"
    }
   ],
   "source": [
    "interval_list[obj_min_idx, node_idx]\n"
   ]
  },
  {
   "cell_type": "code",
   "execution_count": 42,
   "metadata": {
    "pycharm": {
     "name": "#%%\n"
    }
   },
   "outputs": [
    {
     "data": {
      "text/plain": [
       "array([120.671234 ,  11.66755  ,   7.052842 , ...,   1.0070881,\n",
       "         1.0047907,   1.0022756], dtype=float32)"
      ]
     },
     "execution_count": 42,
     "metadata": {},
     "output_type": "execute_result"
    }
   ],
   "source": [
    "coverage_nor"
   ]
  },
  {
   "cell_type": "code",
   "execution_count": 43,
   "metadata": {
    "pycharm": {
     "name": "#%%\n"
    }
   },
   "outputs": [
    {
     "data": {
      "text/plain": [
       "array([7.4383885e-02, 8.1427948e-04, 2.1018048e-03, ..., 8.6937153e-01,\n",
       "       9.2584467e-01, 1.0000000e+00], dtype=float32)"
      ]
     },
     "execution_count": 43,
     "metadata": {},
     "output_type": "execute_result"
    }
   ],
   "source": [
    "interval_nor"
   ]
  },
  {
   "cell_type": "code",
   "execution_count": null,
   "metadata": {
    "pycharm": {
     "name": "#%%\n"
    }
   },
   "outputs": [],
   "source": []
  },
  {
   "cell_type": "code",
   "execution_count": 119,
   "metadata": {
    "pycharm": {
     "name": "#%%\n"
    }
   },
   "outputs": [
    {
     "data": {
      "text/plain": [
       "[<matplotlib.lines.Line2D at 0x7fb28d492c10>]"
      ]
     },
     "execution_count": 119,
     "metadata": {},
     "output_type": "execute_result"
    },
    {
     "data": {
      "image/png": "[encoded data removed]",
      "text/plain": [
       "<Figure size 432x288 with 1 Axes>"
      ]
     },
     "metadata": {
      "needs_background": "light"
     },
     "output_type": "display_data"
    }
   ],
   "source": [
    "plt.plot(node_coverage[10,:])"
   ]
  },
  {
   "cell_type": "code",
   "execution_count": 124,
   "metadata": {
    "pycharm": {
     "name": "#%%\n"
    }
   },
   "outputs": [
    {
     "data": {
      "text/plain": [
       "[<matplotlib.lines.Line2D at 0x7fb28d30f400>]"
      ]
     },
     "execution_count": 124,
     "metadata": {},
     "output_type": "execute_result"
    },
    {
     "data": {
      "image/png": "[encoded data removed]",
      "text/plain": [
       "<Figure size 432x288 with 1 Axes>"
      ]
     },
     "metadata": {
      "needs_background": "light"
     },
     "output_type": "display_data"
    }
   ],
   "source": [
    "plt.plot(node_interval[10,:])\n"
   ]
  },
  {
   "cell_type": "code",
   "execution_count": 81,
   "metadata": {
    "pycharm": {
     "name": "#%%\n"
    }
   },
   "outputs": [
    {
     "data": {
      "text/plain": [
       "array([0.24565785, 0.31388354, 0.40799183, 0.5241231 , 0.61539334,\n",
       "       0.6866841 , 0.7248269 , 0.7608128 , 0.78556025, 0.80372345,\n",
       "       0.8201839 , 0.837439  , 0.8470882 , 0.8470882 , 0.8470882 ,\n",
       "       0.8470882 , 0.8470882 , 0.8470882 , 0.8470882 , 0.8470882 ,\n",
       "       0.8470882 , 0.8470882 , 0.8470882 , 0.8470882 , 0.8470882 ,\n",
       "       0.8470882 , 0.84788287, 0.85696447, 0.86513793, 0.87308437,\n",
       "       0.8813713 , 0.8890907 , 0.89510727, 0.9004427 , 0.904643  ,\n",
       "       0.90872973, 0.9115677 , 0.915995  , 0.9189465 , 0.92257917,\n",
       "       0.92621183, 0.92814165, 0.93075264, 0.93268245, 0.93415827,\n",
       "       0.93552047, 0.93710977, 0.93847203, 0.9399478 , 0.9418776 ,\n",
       "       0.94323987, 0.944148  , 0.94551027, 0.94709957, 0.9489159 ,\n",
       "       0.94971055, 0.9511863 , 0.952435  , 0.9540243 , 0.955046  ,\n",
       "       0.9560677 , 0.95708936, 0.95777047, 0.95913273, 0.9606085 ,\n",
       "       0.96174365, 0.9631059 , 0.96390057, 0.96548986, 0.96662503,\n",
       "       0.96889544, 0.9703712 , 0.97230107, 0.9741174 , 0.97570664,\n",
       "       0.9783176 , 0.9800204 , 0.98240435, 0.98467475, 0.98626405,\n",
       "       0.988648  , 0.99069136, 0.9915995 , 0.99296176, 0.99398345,\n",
       "       0.994551  , 0.9951186 , 0.99523216, 0.99523216, 0.99523216,\n",
       "       0.99523216, 0.99523216, 0.99523216, 0.99523216, 0.99523216,\n",
       "       0.99523216], dtype=float32)"
      ]
     },
     "execution_count": 81,
     "metadata": {},
     "output_type": "execute_result"
    }
   ],
   "source": [
    "node_coverage[:,-2]\n"
   ]
  },
  {
   "cell_type": "code",
   "execution_count": null,
   "metadata": {
    "pycharm": {
     "name": "#%%\n"
    }
   },
   "outputs": [],
   "source": []
  },
  {
   "cell_type": "code",
   "execution_count": null,
   "metadata": {
    "pycharm": {
     "name": "#%%\n"
    }
   },
   "outputs": [],
   "source": []
  },
  {
   "cell_type": "markdown",
   "metadata": {
    "pycharm": {
     "name": "#%% md\n"
    }
   },
   "source": []
  }
 ],
 "metadata": {
  "kernelspec": {
   "display_name": "Python 3.8.13 ('torch2')",
   "language": "python",
   "name": "python3"
  },
  "language_info": {
   "codemirror_mode": {
    "name": "ipython",
    "version": 3
   },
   "file_extension": ".py",
   "mimetype": "text/x-python",
   "name": "python",
   "nbconvert_exporter": "python",
   "pygments_lexer": "ipython3",
   "version": "3.8.13"
  },
  "orig_nbformat": 4,
  "vscode": {
   "interpreter": {
    "hash": "9f3c30466c2eceadfc157a218e301d49e3c351386d16e068d7e02e6d521947af"
   }
  }
 },
 "nbformat": 4,
 "nbformat_minor": 2
}