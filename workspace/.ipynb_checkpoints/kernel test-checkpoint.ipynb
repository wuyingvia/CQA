{
 "cells": [
  {
   "cell_type": "markdown",
   "metadata": {
    "pycharm": {
     "name": "#%% md\n"
    }
   },
   "source": [
    "this version is to test lvd, including the kernel and weighted average\n",
    "date: 20220713"
   ]
  },
  {
   "cell_type": "markdown",
   "metadata": {
    "pycharm": {
     "name": "#%% md\n"
    }
   },
   "source": [
    "# setting and library"
   ]
  },
  {
   "cell_type": "code",
   "execution_count": 1,
   "metadata": {
    "pycharm": {
     "name": "#%%\n"
    }
   },
   "outputs": [
    {
     "name": "stdout",
     "output_type": "stream",
     "text": [
      "data.shape (52116, 325)\n"
     ]
    }
   ],
   "source": [
    "import sys\n",
    "sys.path.append('/home/wuying/CODE/mymodel/2022/DL-Traff-Graph/')\n",
    "import pred_STGCN3"
   ]
  },
  {
   "cell_type": "code",
   "execution_count": 13,
   "metadata": {
    "pycharm": {
     "name": "#%%\n"
    }
   },
   "outputs": [
    {
     "name": "stdout",
     "output_type": "stream",
     "text": [
      "/home/wuying\r\n"
     ]
    }
   ],
   "source": [
    "!pwd"
   ]
  },
  {
   "cell_type": "markdown",
   "metadata": {
    "pycharm": {
     "name": "#%% md\n"
    }
   },
   "source": [
    "# data"
   ]
  },
  {
   "cell_type": "code",
   "execution_count": null,
   "metadata": {
    "pycharm": {
     "name": "#%%\n"
    }
   },
   "outputs": [],
   "source": [
    "if not os.path.exists(PATH):\n",
    "    os.makedirs(PATH)\n",
    "currentPython = sys.argv[0]\n",
    "shutil.copy2(currentPython, PATH)\n",
    "shutil.copy2('STGCN.py', PATH)\n",
    "shutil.copy2('Param.py', PATH)\n",
    "shutil.copy2('Param_STGCN3.py', PATH)\n",
    "\n",
    "print(KEYWORD, 'training started', time.ctime())\n",
    "trainXS, trainYS = getXSYS_single(data, 'TRAIN')\n",
    "print('TRAIN XS.shape YS,shape', trainXS.shape, trainYS.shape)\n",
    "trainModel(MODELNAME, 'train', trainXS, trainYS)"
   ]
  },
  {
   "cell_type": "markdown",
   "metadata": {
    "pycharm": {
     "name": "#%% md\n"
    }
   },
   "source": [
    "# model"
   ]
  },
  {
   "cell_type": "code",
   "execution_count": null,
   "metadata": {
    "pycharm": {
     "name": "#%%\n"
    }
   },
   "outputs": [],
   "source": [
    "class STGCN(nn.Module):\n",
    "    def __init__(self, ks, kt, bs, T, n, Lk, p):\n",
    "        super(STGCN, self).__init__()\n",
    "        self.st_conv1 = st_conv_block(ks, kt, n, bs[0], p, Lk)\n",
    "        self.st_conv2 = st_conv_block(ks, kt, n, bs[1], p, Lk)\n",
    "        self.output = output_layer(bs[1][2], T - 4 * (kt - 1), n)\n",
    "\n",
    "    def forward(self, x):\n",
    "        x_st1 = self.st_conv1(x)\n",
    "        x_st2 = self.st_conv2(x_st1)\n",
    "        return self.output(x_st2)"
   ]
  }
 ],
 "metadata": {
  "kernelspec": {
   "display_name": "Python 3 (ipykernel)",
   "language": "python",
   "name": "python3"
  },
  "language_info": {
   "codemirror_mode": {
    "name": "ipython",
    "version": 3
   },
   "file_extension": ".py",
   "mimetype": "text/x-python",
   "name": "python",
   "nbconvert_exporter": "python",
   "pygments_lexer": "ipython3",
   "version": "3.7.4"
  },
  "toc": {
   "base_numbering": 1,
   "nav_menu": {},
   "number_sections": true,
   "sideBar": true,
   "skip_h1_title": false,
   "title_cell": "Table of Contents",
   "title_sidebar": "Contents",
   "toc_cell": false,
   "toc_position": {},
   "toc_section_display": true,
   "toc_window_display": false
  },
  "varInspector": {
   "cols": {
    "lenName": 16,
    "lenType": 16,
    "lenVar": 40
   },
   "kernels_config": {
    "python": {
     "delete_cmd_postfix": "",
     "delete_cmd_prefix": "del ",
     "library": "var_list.py",
     "varRefreshCmd": "print(var_dic_list())"
    },
    "r": {
     "delete_cmd_postfix": ") ",
     "delete_cmd_prefix": "rm(",
     "library": "var_list.r",
     "varRefreshCmd": "cat(var_dic_list()) "
    }
   },
   "position": {
    "height": "144.852px",
    "left": "1557px",
    "right": "20px",
    "top": "335px",
    "width": "350px"
   },
   "types_to_exclude": [
    "module",
    "function",
    "builtin_function_or_method",
    "instance",
    "_Feature"
   ],
   "window_display": true
  }
 },
 "nbformat": 4,
 "nbformat_minor": 1
}
